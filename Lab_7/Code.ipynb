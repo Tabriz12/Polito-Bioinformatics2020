{
  "nbformat": 4,
  "nbformat_minor": 0,
  "metadata": {
    "colab": {
      "name": "Lab_7.ipynb",
      "provenance": [],
      "collapsed_sections": [],
      "toc_visible": true
    },
    "kernelspec": {
      "name": "python3",
      "display_name": "Python 3"
    },
    "accelerator": "GPU"
  },
  "cells": [
    {
      "cell_type": "code",
      "metadata": {
        "id": "myFV0MXIo8HB"
      },
      "source": [
        "import tensorflow as tf\r\n",
        "from tensorflow import keras\r\n",
        "from keras import layers\r\n",
        "import numpy as np\r\n",
        "import random\r\n",
        "import matplotlib.pyplot as plt\r\n",
        "from tqdm import tqdm\r\n",
        "!pip install progiter"
      ],
      "execution_count": null,
      "outputs": []
    },
    {
      "cell_type": "markdown",
      "metadata": {
        "id": "C5HuNwZ8cLJa"
      },
      "source": [
        ""
      ]
    },
    {
      "cell_type": "markdown",
      "metadata": {
        "id": "SRRcakYMcMDc"
      },
      "source": [
        "# Linear regression with automatic differentiation"
      ]
    },
    {
      "cell_type": "code",
      "metadata": {
        "id": "SiB9YaH4-7eh"
      },
      "source": [
        "data_points = 10\r\n",
        "epochs = 20"
      ],
      "execution_count": null,
      "outputs": []
    },
    {
      "cell_type": "code",
      "metadata": {
        "colab": {
          "base_uri": "https://localhost:8080/"
        },
        "id": "ck2s3dlXpnzw",
        "outputId": "8debdabb-0747-49ce-98bb-4a07ce89b342"
      },
      "source": [
        "random.seed(4)\r\n",
        "y = [float(random.randint(20,50)) for i in range(data_points)]\r\n",
        "x = [float(y[i]-2 - random.randint(0, 15)) for i in range(data_points)]\r\n",
        "print(y)\r\n",
        "print(x)\r\n",
        "y_copy = y\r\n",
        "x_copy  = x"
      ],
      "execution_count": null,
      "outputs": [
        {
          "output_type": "stream",
          "text": [
            "[27.0, 29.0, 23.0, 43.0, 32.0, 35.0, 24.0, 22.0, 22.0, 20.0]\n",
            "[13.0, 18.0, 20.0, 34.0, 19.0, 25.0, 17.0, 17.0, 12.0, 12.0]\n"
          ],
          "name": "stdout"
        }
      ]
    },
    {
      "cell_type": "code",
      "metadata": {
        "id": "wxiap5JxrsF2"
      },
      "source": [
        "class MyModel(keras.Model):\r\n",
        "  def __init__(self, x, y, lr=0.01, optimizer = keras.optimizers.Adam):\r\n",
        "    super(MyModel, self).__init__()\r\n",
        "    self.x = tf.Variable(x, trainable=False) # if second argument ignored (which I did in my first try) model also \r\n",
        "                                             # \"optimizes\" original data points\r\n",
        "    self.y = tf.Variable(y,trainable=False)\r\n",
        "    self.optimizer = optimizer(lr=lr)\r\n",
        "    self.a = tf.Variable(1.)\r\n",
        "    self.b = tf.Variable(1.)\r\n",
        "    self.step = 1\r\n",
        "\r\n",
        "  def MSE(self, true, pred):\r\n",
        "    return tf.reduce_mean(tf.square(pred-true))\r\n",
        "  \r\n",
        "  def predict (self, x, a, b):\r\n",
        "    return a * self.x + b\r\n",
        "  \r\n",
        "  \r\n",
        "\r\n",
        "  def train_step(self):\r\n",
        "    with tf.GradientTape() as GT:\r\n",
        "      #GT.watch(self.a)\r\n",
        "      #GT.watch(self.b)\r\n",
        "      y_pred = self.predict(self.x, self.a, self.b)\r\n",
        "      loss = self.MSE(self.y, y_pred)\r\n",
        "    \r\n",
        "\r\n",
        "    gradients = GT.gradient(loss, self.trainable_variables)\r\n",
        "    self.optimizer.apply_gradients(zip(gradients, self.trainable_variables))\r\n",
        "\r\n",
        "    if(self.step%5==0):\r\n",
        "      print(\"\\nEpoch: \", self.step)\r\n",
        "      print(\"\\nLoss: \", float(loss))\r\n",
        "      print(\"\\nParameters: a:{:6.5f} b:{:6.5f}\".format(float(self.a),float(self.b)))\r\n",
        "      #print(self.trainable_variables)\r\n",
        "    \r\n",
        "    self.step+=1\r\n",
        "\r\n",
        "    \r\n",
        "\r\n",
        "\r\n"
      ],
      "execution_count": null,
      "outputs": []
    },
    {
      "cell_type": "code",
      "metadata": {
        "id": "1QHzZWXxsXF7"
      },
      "source": [
        "mod = MyModel(x,y, 0.5)\r\n",
        "\r\n",
        "for epoch in range(epochs):\r\n",
        "  mod.train_step()\r\n",
        "\r\n"
      ],
      "execution_count": null,
      "outputs": []
    },
    {
      "cell_type": "code",
      "metadata": {
        "id": "OdSwXyjpRceK"
      },
      "source": [
        "test=x*mod.a + mod.b\r\n",
        "print(test.numpy())\r\n",
        "print(y_copy)\r\n",
        "\r\n",
        "\r\n"
      ],
      "execution_count": null,
      "outputs": []
    },
    {
      "cell_type": "markdown",
      "metadata": {
        "id": "CtOJdsw1Jq2v"
      },
      "source": [
        "\r\n",
        "\r\n",
        "# Tensorflow implementation of GAN\r\n",
        "\r\n",
        "**Thumps up rules derived from original DCGAN paper**\r\n",
        "\r\n",
        "1. Use Strided Convolutions in discriminator instead of pooling (e.g. maxpooling). Similarly, fractional stride (deconvolutional layers) can be used in the generator for upsampling.\r\n",
        "2. No fully connected layers\r\n",
        "3. Use batch normalization (except in the output of the generator and input to the discriminator).\r\n",
        "4. For generators ReLU is preferred except output layer (Tanh), for discriminator LeakyReLU (with slope of 0.2) is better choice\r\n",
        "5. Adam optimizer is better choice with lr  = 0.0002 and beta1 = 0.5\r\n",
        "\r\n",
        "For additional tips : https://machinelearningmastery.com/how-to-train-stable-generative-adversarial-networks/\r\n",
        "\r\n",
        "\r\n",
        "\r\n",
        "\r\n"
      ]
    },
    {
      "cell_type": "code",
      "metadata": {
        "id": "9IB3F9NWCeAS"
      },
      "source": [
        "(x_train, y_train),  (x_test, y_test) = keras.datasets.fashion_mnist.load_data()\r\n",
        "x_train = x_train.reshape(x_train.shape[0], 28, 28, 1).astype('float32')\r\n",
        "x_train, x_test = (x_train-127.5)/127.5 , (x_test-127.5)/127.5\r\n"
      ],
      "execution_count": null,
      "outputs": []
    },
    {
      "cell_type": "code",
      "metadata": {
        "id": "yx75-oslDLZS"
      },
      "source": [
        "def make_generator():\r\n",
        "  model = keras.Sequential(name=\"Generator\")\r\n",
        "  model.add(layers.Dense(7*7*256, input_shape=[100,]))\r\n",
        "  model.add(layers.BatchNormalization())\r\n",
        "  model.add(layers.LeakyReLU())\r\n",
        "  model.add(layers.Reshape((7, 7, 256)))\r\n",
        "  print(\"0: \", model.output_shape) # for debugging purposes\r\n",
        "  \r\n",
        "  #assert model.output_shape == (None, 7, 7, 256) # (batch size, h, w, channels)\r\n",
        "  \r\n",
        "  model.add(layers.UpSampling2D())\r\n",
        "  print(\"1: \", model.output_shape)\r\n",
        "  model.add(layers.Conv2D(128, kernel_size=3, padding=\"same\"))\r\n",
        "  print(\"2: \", model.output_shape)\r\n",
        "  model.add(layers.BatchNormalization(momentum=0.8))\r\n",
        "  model.add(layers.Activation(\"relu\"))\r\n",
        "  print(\"3: \", model.output_shape)\r\n",
        "  model.add(layers.UpSampling2D())\r\n",
        "  print(\"4: \", model.output_shape)\r\n",
        "  model.add(layers.Conv2D(64, kernel_size=3, padding=\"same\"))\r\n",
        "  print(\"5: \", model.output_shape)\r\n",
        "  model.add(layers.BatchNormalization(momentum=0.8))\r\n",
        "  model.add(layers.Activation(\"relu\"))\r\n",
        "  model.add(layers.Conv2D(1, kernel_size=3, padding=\"same\"))\r\n",
        "  #No batch normalization according to the rule\r\n",
        "  print(\"6: \", model.output_shape)\r\n",
        "  model.add(layers.Activation(\"tanh\"))\r\n",
        "  return model\r\n",
        "\r\n",
        "generator = make_generator()\r\n"
      ],
      "execution_count": null,
      "outputs": []
    },
    {
      "cell_type": "code",
      "metadata": {
        "colab": {
          "base_uri": "https://localhost:8080/",
          "height": 282
        },
        "id": "DlcNb3iTPuxr",
        "outputId": "995b351f-da19-4d20-ef49-991acdbf3c2a"
      },
      "source": [
        "random.seed(42)\r\n",
        "first_noise = tf.random.normal([1, 100])\r\n",
        "\r\n",
        "generated_image = generator(first_noise, training=False)\r\n",
        "#generated_image.numpy\r\n",
        "\r\n",
        "plt.imshow(generated_image[0, :, :, 0], cmap='gray') # first dimension is the batch size, last is channel"
      ],
      "execution_count": null,
      "outputs": [
        {
          "output_type": "execute_result",
          "data": {
            "text/plain": [
              "<matplotlib.image.AxesImage at 0x7f76cb2d1710>"
            ]
          },
          "metadata": {
            "tags": []
          },
          "execution_count": 37
        },
        {
          "output_type": "display_data",
          "data": {
            "image/png": "[encoded data removed]",
            "text/plain": [
              "<Figure size 432x288 with 1 Axes>"
            ]
          },
          "metadata": {
            "tags": [],
            "needs_background": "light"
          }
        }
      ]
    },
    {
      "cell_type": "code",
      "metadata": {
        "id": "73Pt9qbVDP-H"
      },
      "source": [
        "def make_discriminator():\r\n",
        "  model = keras.Sequential(name=\"Discriminator\")\r\n",
        "  model.add(layers.Conv2D(64, kernel_size=5, strides=(2,2), padding='same', input_shape=[28,28,1]))\r\n",
        "  print(model.output_shape)\r\n",
        "  model.add(layers.LeakyReLU(0.2))\r\n",
        "  model.add(layers.Dropout(0.25))\r\n",
        "  model.add(layers.Conv2D(128, kernel_size=5, strides=(2,2), padding='same'))\r\n",
        "  model.add(layers.BatchNormalization(momentum=0.8))\r\n",
        "  model.add(layers.LeakyReLU(0.2))\r\n",
        "  model.add(layers.Dropout(0.25))\r\n",
        "  model.add(layers.Conv2D(256, kernel_size=5, strides=(1,1), padding='same'))\r\n",
        "  model.add(layers.BatchNormalization(momentum=0.8))\r\n",
        "  model.add(layers.LeakyReLU(0.2))\r\n",
        "  model.add(layers.Dropout(0.25))\r\n",
        "  model.add(layers.Flatten())\r\n",
        "  model.add(layers.Dense(1))\r\n",
        "  return model"
      ],
      "execution_count": null,
      "outputs": []
    },
    {
      "cell_type": "code",
      "metadata": {
        "colab": {
          "base_uri": "https://localhost:8080/"
        },
        "id": "jJlpe_e4JVl6",
        "outputId": "e1b6ad25-36b0-4fca-ee45-52492247e1d8"
      },
      "source": [
        "discriminator = make_discriminator()\r\n",
        "print(discriminator.summary())\r\n",
        "#output = discriminator(generated_image, training=False)\r\n",
        "#print(output)"
      ],
      "execution_count": null,
      "outputs": [
        {
          "output_type": "stream",
          "text": [
            "(None, 14, 14, 64)\n",
            "Model: \"Discriminator\"\n",
            "_________________________________________________________________\n",
            "Layer (type)                 Output Shape              Param #   \n",
            "=================================================================\n",
            "conv2d_15 (Conv2D)           (None, 14, 14, 64)        1664      \n",
            "_________________________________________________________________\n",
            "leaky_re_lu_9 (LeakyReLU)    (None, 14, 14, 64)        0         \n",
            "_________________________________________________________________\n",
            "dropout_6 (Dropout)          (None, 14, 14, 64)        0         \n",
            "_________________________________________________________________\n",
            "conv2d_16 (Conv2D)           (None, 7, 7, 128)         204928    \n",
            "_________________________________________________________________\n",
            "batch_normalization_13 (Batc (None, 7, 7, 128)         512       \n",
            "_________________________________________________________________\n",
            "leaky_re_lu_10 (LeakyReLU)   (None, 7, 7, 128)         0         \n",
            "_________________________________________________________________\n",
            "dropout_7 (Dropout)          (None, 7, 7, 128)         0         \n",
            "_________________________________________________________________\n",
            "conv2d_17 (Conv2D)           (None, 7, 7, 256)         819456    \n",
            "_________________________________________________________________\n",
            "batch_normalization_14 (Batc (None, 7, 7, 256)         1024      \n",
            "_________________________________________________________________\n",
            "leaky_re_lu_11 (LeakyReLU)   (None, 7, 7, 256)         0         \n",
            "_________________________________________________________________\n",
            "dropout_8 (Dropout)          (None, 7, 7, 256)         0         \n",
            "_________________________________________________________________\n",
            "flatten_2 (Flatten)          (None, 12544)             0         \n",
            "_________________________________________________________________\n",
            "dense_5 (Dense)              (None, 1)                 12545     \n",
            "=================================================================\n",
            "Total params: 1,040,129\n",
            "Trainable params: 1,039,361\n",
            "Non-trainable params: 768\n",
            "_________________________________________________________________\n",
            "None\n"
          ],
          "name": "stdout"
        }
      ]
    },
    {
      "cell_type": "code",
      "metadata": {
        "id": "WBNCTKdSWiK0"
      },
      "source": [
        "\r\n",
        "cross_entropy = keras.losses.BinaryCrossentropy(from_logits=True)\r\n",
        "\r\n",
        "def discriminator_loss(real_output, fake_output):\r\n",
        "  real_loss = cross_entropy(tf.ones_like(real_output), real_output)\r\n",
        "  fake_loss = cross_entropy(tf.zeros_like(fake_output), fake_output)\r\n",
        "  total_loss = real_loss + fake_loss\r\n",
        "  return total_loss\r\n",
        "\r\n",
        "def generator_loss(fake_output):\r\n",
        "  return cross_entropy(tf.ones_like(fake_output), fake_output)"
      ],
      "execution_count": null,
      "outputs": []
    },
    {
      "cell_type": "code",
      "metadata": {
        "id": "OkPPwZfHXNpl"
      },
      "source": [
        "generator_optimizer = keras.optimizers.Adam(2e-4, 0.5)\r\n",
        "discriminator_optimizer = keras.optimizers.Adam(2e-4, 0.5)"
      ],
      "execution_count": null,
      "outputs": []
    },
    {
      "cell_type": "code",
      "metadata": {
        "id": "NEZgIpfuU34l",
        "colab": {
          "base_uri": "https://localhost:8080/"
        },
        "outputId": "b9f4e79a-2ecb-4eb4-9958-b35eb9b17ea1"
      },
      "source": [
        "import math\r\n",
        "batch_size = 256\r\n",
        "noise_dim = 100\r\n",
        "epochs = 30\r\n",
        "math.ceil(len(x_train)/batch_size)"
      ],
      "execution_count": null,
      "outputs": [
        {
          "output_type": "execute_result",
          "data": {
            "text/plain": [
              "235"
            ]
          },
          "metadata": {
            "tags": []
          },
          "execution_count": 42
        }
      ]
    },
    {
      "cell_type": "code",
      "metadata": {
        "id": "5riESPGMKeZ6"
      },
      "source": [
        "class DCGAN(keras.Model):\r\n",
        "  def __init__(self, generator, discriminator):\r\n",
        "    super(DCGAN, self).__init__()\r\n",
        "    self.generator = generator\r\n",
        "    self.discriminator = discriminator\r\n",
        "    self.step = 0\r\n",
        "\r\n",
        "  def train_step(self, images):\r\n",
        "    noise = tf.random.normal([batch_size, noise_dim])\r\n",
        "    \r\n",
        "    with tf.GradientTape() as gt_disc, tf.GradientTape() as gt_gen:\r\n",
        "      \r\n",
        "      generated_images = self.generator(noise, training=True)\r\n",
        "\r\n",
        "      real_output = self.discriminator(images, training=True)\r\n",
        "      fake_output = self.discriminator(generated_images, training=True)\r\n",
        "\r\n",
        "      gen_loss = generator_loss(fake_output)\r\n",
        "      disc_loss = discriminator_loss(real_output, fake_output)\r\n",
        "\r\n",
        "      if(self.step % math.ceil(len(x_train)/batch_size) == 0):\r\n",
        "        print(\"\\n\\nGenerator Loss: {}\\nDisciminator Loss: {}\\n\".format(gen_loss, disc_loss))\r\n",
        "      self.step+=1\r\n",
        "      \r\n",
        "\r\n",
        "    gradients_of_generator = gt_gen.gradient(gen_loss, self.generator.trainable_variables)\r\n",
        "    gradients_of_discriminator = gt_disc.gradient(disc_loss, self.discriminator.trainable_variables)\r\n",
        "\r\n",
        "    generator_optimizer.apply_gradients(zip(gradients_of_generator, self.generator.trainable_variables))\r\n",
        "    discriminator_optimizer.apply_gradients(zip(gradients_of_discriminator, self.discriminator.trainable_variables))\r\n",
        "\r\n",
        "\r\n",
        "\r\n",
        "  \r\n",
        "  "
      ],
      "execution_count": null,
      "outputs": []
    },
    {
      "cell_type": "code",
      "metadata": {
        "id": "Ti6OTNH31F10"
      },
      "source": [
        "from progiter import ProgIter\r\n",
        "generated_images = list()\r\n",
        "#too slow training process\r\n",
        "data = tf.data.Dataset.from_tensor_slices(x_train).shuffle(60000).batch(batch_size)\r\n",
        "gan_model = DCGAN(generator, discriminator)\r\n",
        "\r\n",
        "for epoch in range(epochs):\r\n",
        "  print(\"\\nStarting epoch {}\".format(epoch+1))\r\n",
        "  \r\n",
        "  \r\n",
        "  for batch in ProgIter(data):\r\n",
        "    gan_model.train_step(batch)\r\n",
        "  \r\n",
        "  result = gan_model.generator(first_noise, training=False)\r\n",
        "  result = (result[0,:,:,0]*127.5)+127.5\r\n",
        "  generated_images.append(result)\r\n",
        "\r\n",
        "  \r\n",
        "\r\n",
        "\r\n"
      ],
      "execution_count": null,
      "outputs": []
    },
    {
      "cell_type": "code",
      "metadata": {
        "id": "-GhJWzYIiLll"
      },
      "source": [
        "generated_images = np.array(generated_images)\r\n",
        "generated_images.shape\r\n",
        "\r\n",
        "fig = plt.figure(figsize=(12,10))\r\n",
        "\r\n",
        "for i in range(generated_images.shape[0]):\r\n",
        "  plt.subplot(6,5,i+1)\r\n",
        "  #plt.set_title('Buyuk basari')\r\n",
        "  plt.imshow(generated_images[i,:,:], cmap='gray')\r\n",
        "\r\n",
        "plt.show()"
      ],
      "execution_count": null,
      "outputs": []
    }
  ]
}
